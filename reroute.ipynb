{
 "cells": [
  {
   "cell_type": "code",
   "execution_count": 1,
   "metadata": {},
   "outputs": [],
   "source": [
    "%load_ext autoreload\n",
    "%reload_ext autoreload"
   ]
  },
  {
   "cell_type": "markdown",
   "metadata": {},
   "source": [
    "### How to reroute neuron population into 3D map nerves"
   ]
  },
  {
   "cell_type": "code",
   "execution_count": 2,
   "metadata": {},
   "outputs": [
    {
     "name": "stdout",
     "output_type": "stream",
     "text": [
      "\u001b[2m2024-11-26 17:29:02\u001b[0m [\u001b[32m\u001b[1minfo     \u001b[0m] \u001b[1mMap Knowledge version 0.20.4 with cache /Users/ymun794/Documents/MapCore/human-nerves/production/knowledgebase.db\u001b[0m \u001b[36mtype\u001b[0m=\u001b[35mknowledge\u001b[0m\n",
      "\u001b[2m2024-11-26 17:29:05\u001b[0m [\u001b[32m\u001b[1minfo     \u001b[0m] \u001b[1mWith production SCKAN built at 2023-05-05 from https://scicrunch.org/api/1/sckan-scigraph\u001b[0m \u001b[36mtype\u001b[0m=\u001b[35mknowledge\u001b[0m\n"
     ]
    },
    {
     "name": "stderr",
     "output_type": "stream",
     "text": [
      "\u001b[32m[2024-11-26 17:29:06,234]\u001b[0m - \u001b[33m WARNING\u001b[0m -     pyontutils - \u001b[34m         core.py:818 \u001b[0m - missed sentinel\u001b[0m\n"
     ]
    },
    {
     "name": "stdout",
     "output_type": "stream",
     "text": [
      "\u001b[2m2024-11-26 17:29:14\u001b[0m [\u001b[32m\u001b[1minfo     \u001b[0m] \u001b[1mWith NPO built at 2024-09-21 from https://github.com/SciCrunch/NIF-Ontology/tree/sckan-2024-09-21, SHA: 289979cdad63ebc0d5843a07355f8b13ff3ae788\u001b[0m \u001b[36mtype\u001b[0m=\u001b[35mknowledge\u001b[0m\n",
      "\u001b[2m2024-11-26 17:29:14\u001b[0m [\u001b[32m\u001b[1minfo     \u001b[0m] \u001b[1mUsing knowledge source: sckan-2024-09-21-npo\u001b[0m \u001b[36mtype\u001b[0m=\u001b[35mknowledge\u001b[0m\n",
      "\u001b[2m2024-11-26 17:29:14\u001b[0m [\u001b[32m\u001b[1minfo     \u001b[0m] \u001b[1mClearing connectivity knowledge for `sckan-2024-09-21-npo`...\u001b[0m \u001b[36mtype\u001b[0m=\u001b[35mknowledge\u001b[0m\n"
     ]
    }
   ],
   "source": [
    "import logging\n",
    "\n",
    "logger = logging.getLogger()\n",
    "logger.setLevel(logging.INFO)\n",
    "\n",
    "from connectivity_graph import ConnectivityKnowledge\n",
    "SCKAN_VERSION = 'sckan-2024-09-21'\n",
    "\n",
    "npo = ConnectivityKnowledge(store_directory='production', sckan_version=SCKAN_VERSION, clean_connectivity=True)\n",
    "logger.setLevel(logging.WARNING)"
   ]
  },
  {
   "cell_type": "markdown",
   "metadata": {},
   "source": [
    "Need to load 3D map nerve knowledge sources. For now, there are:\n",
    "- nerve_point_annotations.json\n",
    "    - this can be load as a json file\n",
    "- M2.6_3D_whole-body.csv --> contains:\n",
    "    - nerve ID\n",
    "    - origins, pathways, landmarks, and destinations\n",
    "    - laterality\n",
    "    - all of these should be included in nerveAnnotations_manInBox.txt at each origin, waypoint, and destination\n",
    "    - it is slightly modified from the original one by adding Superclass column"
   ]
  },
  {
   "cell_type": "code",
   "execution_count": 3,
   "metadata": {},
   "outputs": [],
   "source": [
    "from routing import Rerouting, draw_entity, draw_waypoints\n",
    "from connectivity_graph import display_connectivity_graph\n",
    "\n",
    "rerouting = Rerouting('M2.6_3D_whole-body.csv', 'nerve_point_annotations.json', npo)"
   ]
  },
  {
   "cell_type": "markdown",
   "metadata": {},
   "source": [
    "#### Reroute and draw ilxtr:neuron-type-bolew-unbranched-\n",
    "This is an example of completely routed neuron population to 3d whole-body map"
   ]
  },
  {
   "cell_type": "code",
   "execution_count": 4,
   "metadata": {},
   "outputs": [
    {
     "name": "stdout",
     "output_type": "stream",
     "text": [
      "ilxtr:neuron-type-bolew-unbranched-12\n",
      "SCKAN:\n",
      "\u001b[2m2024-11-26 13:04:35\u001b[0m [\u001b[32m\u001b[1minfo     \u001b[0m] \u001b[1mConsulting NPO for knowledge about ilxtr:neuron-type-bolew-unbranched-12\u001b[0m \u001b[36mtype\u001b[0m=\u001b[35mknowledge\u001b[0m\n"
     ]
    },
    {
     "data": {
      "application/vnd.jupyter.widget-view+json": {
       "model_id": "0438f7c8b51846e1ba078aecd6417f73",
       "version_major": 2,
       "version_minor": 0
      },
      "text/plain": [
       "CytoscapeWidget(cytoscape_layout={'name': 'cola'}, cytoscape_style=[{'selector': 'node', 'style': {'label': 'd…"
      ]
     },
     "metadata": {},
     "output_type": "display_data"
    },
    {
     "name": "stdout",
     "output_type": "stream",
     "text": [
      "Reroute for 3D Map:\n",
      "\u001b[2m2024-11-26 13:04:45\u001b[0m [\u001b[32m\u001b[1minfo     \u001b[0m] \u001b[1mConsulting SciCrunch for knowledge about FMA:53509\u001b[0m \u001b[36mtype\u001b[0m=\u001b[35mknowledge\u001b[0m\n",
      "\u001b[2m2024-11-26 13:04:46\u001b[0m [\u001b[32m\u001b[1minfo     \u001b[0m] \u001b[1mConsulting SciCrunch for knowledge about FMA:50894\u001b[0m \u001b[36mtype\u001b[0m=\u001b[35mknowledge\u001b[0m\n",
      "\u001b[2m2024-11-26 13:04:47\u001b[0m [\u001b[32m\u001b[1minfo     \u001b[0m] \u001b[1mConsulting SciCrunch for knowledge about FMA:53508\u001b[0m \u001b[36mtype\u001b[0m=\u001b[35mknowledge\u001b[0m\n",
      "\u001b[2m2024-11-26 13:04:48\u001b[0m [\u001b[32m\u001b[1minfo     \u001b[0m] \u001b[1mConsulting SciCrunch for knowledge about FMA:50892\u001b[0m \u001b[36mtype\u001b[0m=\u001b[35mknowledge\u001b[0m\n"
     ]
    },
    {
     "data": {
      "application/vnd.jupyter.widget-view+json": {
       "model_id": "3510147a69dc4267a588c0644c14bb5f",
       "version_major": 2,
       "version_minor": 0
      },
      "text/plain": [
       "CytoscapeWidget(cytoscape_layout={'name': 'cola'}, cytoscape_style=[{'selector': 'node', 'style': {'label': 'd…"
      ]
     },
     "metadata": {},
     "output_type": "display_data"
    },
    {
     "data": {
      "application/vnd.jupyter.widget-view+json": {
       "model_id": "89e4c0b1c1574fa09a6e5e6ccab5dbe2",
       "version_major": 2,
       "version_minor": 0
      },
      "text/plain": [
       "CytoscapeWidget(cytoscape_layout={'name': 'cola'}, cytoscape_style=[{'selector': 'node', 'style': {'label': 'd…"
      ]
     },
     "metadata": {},
     "output_type": "display_data"
    },
    {
     "data": {
      "application/vnd.jupyter.widget-view+json": {
       "model_id": "1553c06f7ace4ac2bdd835605d3a0fbd",
       "version_major": 2,
       "version_minor": 0
      },
      "text/plain": [
       "CytoscapeWidget(cytoscape_layout={'name': 'cola'}, cytoscape_style=[{'selector': 'node', 'style': {'label': 'd…"
      ]
     },
     "metadata": {},
     "output_type": "display_data"
    }
   ],
   "source": [
    "g = draw_entity(npo, rerouting, 'ilxtr:neuron-type-bolew-unbranched-12')\n",
    "draw_waypoints(rerouting, g)"
   ]
  },
  {
   "cell_type": "markdown",
   "metadata": {},
   "source": [
    "#### Now checking all neuron population\n",
    "The following script identifies all neuron population with the following criteria:\n",
    "- at least one edge in the neuron population is detected in the 3d whole body map\n",
    "\n",
    "However, this one edge can be just one point in the 3d whole body map.\n",
    "\n",
    "**Note:** Running the following cell takes about 30 minutes\n",
    "\n",
    "If you are only interested in the rendering results:\n",
    "- Go to `Other complete examples` to see the other two complete mapping examples\n",
    "- Go to `Example of partially rendered neuron population` to see the example of `good` partially complete example\n"
   ]
  },
  {
   "cell_type": "code",
   "execution_count": 5,
   "metadata": {},
   "outputs": [
    {
     "name": "stderr",
     "output_type": "stream",
     "text": [
      "100%|███████████████████████████████████████████████████████████████████████████████████████████████████████████████████████████████████████████████████████████████████████████████████████████████████████████████████████████████████| 467/467 [45:56<00:00,  5.90s/it]\n"
     ]
    }
   ],
   "source": [
    "from tqdm import tqdm\n",
    "\n",
    "reroute_results = {}\n",
    "\n",
    "for path in tqdm(npo.connectivity_paths()):\n",
    "    if len((knowledge := rerouting.reroute_for_3d_map(path))['connectivity']) > 0:\n",
    "        reroute_results[path] = {\n",
    "            'original': npo.entity_knowledge(path),\n",
    "            '3d_reroute': knowledge\n",
    "        }\n"
   ]
  },
  {
   "cell_type": "code",
   "execution_count": 6,
   "metadata": {},
   "outputs": [],
   "source": [
    "### need to filter human neuron population only\n",
    "human_reroute_results = {rr:kn for rr, kn in reroute_results.items() \n",
    "                         if len(taxons:=kn['original'].get('taxons', [])) == 0\n",
    "                         or 'NCBITaxon:9606' in taxons                 # human\n",
    "                         or 'NCBITaxon:40674' in taxons                # mammal\n",
    "                        }"
   ]
  },
  {
   "cell_type": "code",
   "execution_count": 11,
   "metadata": {},
   "outputs": [
    {
     "name": "stdout",
     "output_type": "stream",
     "text": [
      "# of neuron populating where at least it's edge identified at 3d whole body map: 34\n"
     ]
    }
   ],
   "source": [
    "print(\"# of neuron populating where at least it's edge identified at 3d whole body map:\", len(human_reroute_results))"
   ]
  },
  {
   "cell_type": "markdown",
   "metadata": {},
   "source": [
    "#### Identifying neuron populations than can be rendered fully and partially \n",
    "Given that most of the neurons in the 3D whole body map have laterality, the minimum number of edges in the detected neuron population should be 4. Thus, there is at least one edge rendered in the left and right laterals of the 3D whole body map."
   ]
  },
  {
   "cell_type": "code",
   "execution_count": 7,
   "metadata": {},
   "outputs": [
    {
     "name": "stdout",
     "output_type": "stream",
     "text": [
      "# of partially mapped neuron population: 13\n"
     ]
    },
    {
     "data": {
      "text/plain": [
       "['ilxtr:neuron-type-aacar-4',\n",
       " 'ilxtr:neuron-type-bolew-unbranched-18',\n",
       " 'ilxtr:neuron-type-bolew-unbranched-16',\n",
       " 'ilxtr:neuron-type-bolew-unbranched-19',\n",
       " 'ilxtr:neuron-type-bolew-unbranched-17',\n",
       " 'ilxtr:sparc-nlp/mmset2cn/1',\n",
       " 'ilxtr:sparc-nlp/mmset2cn/3',\n",
       " 'ilxtr:sparc-nlp/mmset1/10',\n",
       " 'ilxtr:sparc-nlp/mmset1/5',\n",
       " 'ilxtr:neuron-type-bolew-unbranched-11',\n",
       " 'ilxtr:neuron-type-bolew-unbranched-12',\n",
       " 'ilxtr:neuron-type-bolew-unbranched-9',\n",
       " 'ilxtr:neuron-type-bolew-unbranched-10']"
      ]
     },
     "execution_count": 7,
     "metadata": {},
     "output_type": "execute_result"
    }
   ],
   "source": [
    "partially_mapped = [rr for rr, v in human_reroute_results.items() if len(v['3d_reroute']['connectivity'])>= 4]\n",
    "\n",
    "print('# of partially mapped neuron population:', len(partially_mapped))\n",
    "partially_mapped"
   ]
  },
  {
   "cell_type": "markdown",
   "metadata": {},
   "source": [
    "#### Other complete examples"
   ]
  },
  {
   "cell_type": "code",
   "execution_count": 8,
   "metadata": {
    "scrolled": true
   },
   "outputs": [
    {
     "name": "stdout",
     "output_type": "stream",
     "text": [
      "ilxtr:sparc-nlp/mmset2cn/1\n",
      "SCKAN:\n"
     ]
    },
    {
     "data": {
      "application/vnd.jupyter.widget-view+json": {
       "model_id": "eadf94cc08b14374ad5291279fd0c4b4",
       "version_major": 2,
       "version_minor": 0
      },
      "text/plain": [
       "CytoscapeWidget(cytoscape_layout={'name': 'cola'}, cytoscape_style=[{'selector': 'node', 'style': {'label': 'd…"
      ]
     },
     "metadata": {},
     "output_type": "display_data"
    },
    {
     "name": "stdout",
     "output_type": "stream",
     "text": [
      "Reroute for 3D Map:\n"
     ]
    },
    {
     "data": {
      "application/vnd.jupyter.widget-view+json": {
       "model_id": "d370eb5c7feb43e2b0e9dbbed6e6da7f",
       "version_major": 2,
       "version_minor": 0
      },
      "text/plain": [
       "CytoscapeWidget(cytoscape_layout={'name': 'cola'}, cytoscape_style=[{'selector': 'node', 'style': {'label': 'd…"
      ]
     },
     "metadata": {},
     "output_type": "display_data"
    },
    {
     "data": {
      "application/vnd.jupyter.widget-view+json": {
       "model_id": "84ea228d6da540d391d4bed6fe8284df",
       "version_major": 2,
       "version_minor": 0
      },
      "text/plain": [
       "CytoscapeWidget(cytoscape_layout={'name': 'cola'}, cytoscape_style=[{'selector': 'node', 'style': {'label': 'd…"
      ]
     },
     "metadata": {},
     "output_type": "display_data"
    },
    {
     "data": {
      "application/vnd.jupyter.widget-view+json": {
       "model_id": "7080e323187c42898f1a2d6b3eca4804",
       "version_major": 2,
       "version_minor": 0
      },
      "text/plain": [
       "CytoscapeWidget(cytoscape_layout={'name': 'cola'}, cytoscape_style=[{'selector': 'node', 'style': {'label': 'd…"
      ]
     },
     "metadata": {},
     "output_type": "display_data"
    }
   ],
   "source": [
    "g = draw_entity(npo, rerouting, 'ilxtr:sparc-nlp/mmset2cn/1')\n",
    "draw_waypoints(rerouting, g)"
   ]
  },
  {
   "cell_type": "code",
   "execution_count": 9,
   "metadata": {
    "scrolled": true
   },
   "outputs": [
    {
     "name": "stdout",
     "output_type": "stream",
     "text": [
      "ilxtr:sparc-nlp/mmset2cn/3\n",
      "SCKAN:\n"
     ]
    },
    {
     "data": {
      "application/vnd.jupyter.widget-view+json": {
       "model_id": "6efabe079fdd48e89a612efaf9320eaa",
       "version_major": 2,
       "version_minor": 0
      },
      "text/plain": [
       "CytoscapeWidget(cytoscape_layout={'name': 'cola'}, cytoscape_style=[{'selector': 'node', 'style': {'label': 'd…"
      ]
     },
     "metadata": {},
     "output_type": "display_data"
    },
    {
     "name": "stdout",
     "output_type": "stream",
     "text": [
      "Reroute for 3D Map:\n"
     ]
    },
    {
     "name": "stderr",
     "output_type": "stream",
     "text": [
      "WARNING:root:Couldn't access https://scicrunch.org/api/1/sckan-scigraph/vocabulary/id/Chorda tympani branch of left facial nerve.json: Not Found\n",
      "WARNING:root:Unknown anatomical entity: Chorda tympani branch of left facial nerve\n",
      "WARNING:root:Couldn't access https://scicrunch.org/api/1/sckan-scigraph/vocabulary/id/Chorda tympani branch of right facial nerve.json: Not Found\n",
      "WARNING:root:Unknown anatomical entity: Chorda tympani branch of right facial nerve\n"
     ]
    },
    {
     "data": {
      "application/vnd.jupyter.widget-view+json": {
       "model_id": "3ed188676072493d9c941439e940f5f0",
       "version_major": 2,
       "version_minor": 0
      },
      "text/plain": [
       "CytoscapeWidget(cytoscape_layout={'name': 'cola'}, cytoscape_style=[{'selector': 'node', 'style': {'label': 'd…"
      ]
     },
     "metadata": {},
     "output_type": "display_data"
    },
    {
     "data": {
      "application/vnd.jupyter.widget-view+json": {
       "model_id": "a53d13359e6645d6a12cde2967e6e158",
       "version_major": 2,
       "version_minor": 0
      },
      "text/plain": [
       "CytoscapeWidget(cytoscape_layout={'name': 'cola'}, cytoscape_style=[{'selector': 'node', 'style': {'label': 'd…"
      ]
     },
     "metadata": {},
     "output_type": "display_data"
    },
    {
     "data": {
      "application/vnd.jupyter.widget-view+json": {
       "model_id": "728b50041ccf4ae5a791c83d517231d2",
       "version_major": 2,
       "version_minor": 0
      },
      "text/plain": [
       "CytoscapeWidget(cytoscape_layout={'name': 'cola'}, cytoscape_style=[{'selector': 'node', 'style': {'label': 'd…"
      ]
     },
     "metadata": {},
     "output_type": "display_data"
    }
   ],
   "source": [
    "g = draw_entity(npo, rerouting, 'ilxtr:sparc-nlp/mmset2cn/3')\n",
    "draw_waypoints(rerouting, g)"
   ]
  },
  {
   "cell_type": "markdown",
   "metadata": {},
   "source": [
    "#### Example of partially rendered neuron population"
   ]
  },
  {
   "cell_type": "code",
   "execution_count": 5,
   "metadata": {},
   "outputs": [
    {
     "name": "stdout",
     "output_type": "stream",
     "text": [
      "ilxtr:neuron-type-bolew-unbranched-9\n",
      "SCKAN:\n",
      "\u001b[2m2024-11-26 13:05:00\u001b[0m [\u001b[32m\u001b[1minfo     \u001b[0m] \u001b[1mConsulting NPO for knowledge about ilxtr:neuron-type-bolew-unbranched-9\u001b[0m \u001b[36mtype\u001b[0m=\u001b[35mknowledge\u001b[0m\n"
     ]
    },
    {
     "data": {
      "application/vnd.jupyter.widget-view+json": {
       "model_id": "bbd0f6fc50234a8bbb58b286a979a518",
       "version_major": 2,
       "version_minor": 0
      },
      "text/plain": [
       "CytoscapeWidget(cytoscape_layout={'name': 'cola'}, cytoscape_style=[{'selector': 'node', 'style': {'label': 'd…"
      ]
     },
     "metadata": {},
     "output_type": "display_data"
    },
    {
     "name": "stdout",
     "output_type": "stream",
     "text": [
      "Reroute for 3D Map:\n",
      "\u001b[2m2024-11-26 13:05:06\u001b[0m [\u001b[32m\u001b[1minfo     \u001b[0m] \u001b[1mConsulting SciCrunch for knowledge about UBERON:0035020\u001b[0m \u001b[36mtype\u001b[0m=\u001b[35mknowledge\u001b[0m\n",
      "\u001b[2m2024-11-26 13:05:07\u001b[0m [\u001b[32m\u001b[1minfo     \u001b[0m] \u001b[1mConsulting SciCrunch for knowledge about FMA:53536\u001b[0m \u001b[36mtype\u001b[0m=\u001b[35mknowledge\u001b[0m\n",
      "\u001b[2m2024-11-26 13:05:08\u001b[0m [\u001b[32m\u001b[1minfo     \u001b[0m] \u001b[1mConsulting SciCrunch for knowledge about UBERON:0035021\u001b[0m \u001b[36mtype\u001b[0m=\u001b[35mknowledge\u001b[0m\n",
      "\u001b[2m2024-11-26 13:05:09\u001b[0m [\u001b[32m\u001b[1minfo     \u001b[0m] \u001b[1mConsulting SciCrunch for knowledge about FMA:53530\u001b[0m \u001b[36mtype\u001b[0m=\u001b[35mknowledge\u001b[0m\n"
     ]
    },
    {
     "data": {
      "application/vnd.jupyter.widget-view+json": {
       "model_id": "51763bc60d954671a35143712639964c",
       "version_major": 2,
       "version_minor": 0
      },
      "text/plain": [
       "CytoscapeWidget(cytoscape_layout={'name': 'cola'}, cytoscape_style=[{'selector': 'node', 'style': {'label': 'd…"
      ]
     },
     "metadata": {},
     "output_type": "display_data"
    },
    {
     "data": {
      "application/vnd.jupyter.widget-view+json": {
       "model_id": "5766a39e29134b3bb38baa0200c1aa23",
       "version_major": 2,
       "version_minor": 0
      },
      "text/plain": [
       "CytoscapeWidget(cytoscape_layout={'name': 'cola'}, cytoscape_style=[{'selector': 'node', 'style': {'label': 'd…"
      ]
     },
     "metadata": {},
     "output_type": "display_data"
    },
    {
     "data": {
      "application/vnd.jupyter.widget-view+json": {
       "model_id": "9e90142abbc048db9c736ddbfa5faa33",
       "version_major": 2,
       "version_minor": 0
      },
      "text/plain": [
       "CytoscapeWidget(cytoscape_layout={'name': 'cola'}, cytoscape_style=[{'selector': 'node', 'style': {'label': 'd…"
      ]
     },
     "metadata": {},
     "output_type": "display_data"
    }
   ],
   "source": [
    "g = draw_entity(npo, rerouting, 'ilxtr:neuron-type-bolew-unbranched-9')\n",
    "draw_waypoints(rerouting, g)"
   ]
  },
  {
   "cell_type": "code",
   "execution_count": 12,
   "metadata": {},
   "outputs": [],
   "source": [
    "npo.close()"
   ]
  }
 ],
 "metadata": {
  "kernelspec": {
   "display_name": "Python 3 (ipykernel)",
   "language": "python",
   "name": "python3"
  },
  "language_info": {
   "codemirror_mode": {
    "name": "ipython",
    "version": 3
   },
   "file_extension": ".py",
   "mimetype": "text/x-python",
   "name": "python",
   "nbconvert_exporter": "python",
   "pygments_lexer": "ipython3",
   "version": "3.12.3"
  }
 },
 "nbformat": 4,
 "nbformat_minor": 4
}

{
 "cells": [
  {
   "cell_type": "code",
   "execution_count": 1,
   "metadata": {},
   "outputs": [],
   "source": [
    "%load_ext autoreload\n",
    "%reload_ext autoreload"
   ]
  },
  {
   "cell_type": "markdown",
   "metadata": {},
   "source": [
    "### How to reroute neuron population into 3D map nerves"
   ]
  },
  {
   "cell_type": "code",
   "execution_count": 2,
   "metadata": {},
   "outputs": [
    {
     "name": "stderr",
     "output_type": "stream",
     "text": [
      "\u001b[32m[2024-11-20 10:55:10,824]\u001b[0m - \u001b[33m WARNING\u001b[0m -     pyontutils - \u001b[34m         core.py:818 \u001b[0m - missed sentinel\u001b[0m\n",
      "WARNING:pyontutils:missed sentinel\n"
     ]
    }
   ],
   "source": [
    "import logging\n",
    "\n",
    "logger = logging.getLogger()\n",
    "logger.setLevel(logging.INFO)\n",
    "\n",
    "from connectivity_graph import ConnectivityKnowledge\n",
    "SCKAN_VERSION = 'sckan-2024-09-21'\n",
    "\n",
    "npo = ConnectivityKnowledge(store_directory='production', sckan_version=SCKAN_VERSION, clean_connectivity=True)"
   ]
  },
  {
   "cell_type": "markdown",
   "metadata": {},
   "source": [
    "Need to load 3D map nerve knowledge sources. For now, there are:\n",
    "- nerve_point_annotations.json\n",
    "    - this can be load as a json file\n",
    "- M2.6_3D_whole-body.csv --> contains:\n",
    "    - nerve ID\n",
    "    - origins, pathways, landmarks, and destinations\n",
    "    - laterality\n",
    "    - all of these should be included in nerveAnnotations_manInBox.txt at each origin, waypoint, and destination\n",
    "    - it is slightly modified from the original one by adding Superclass column"
   ]
  },
  {
   "cell_type": "code",
   "execution_count": 3,
   "metadata": {},
   "outputs": [],
   "source": [
    "from routing import Rerouting, draw_entity, draw_waypoints\n",
    "from connectivity_graph import display_connectivity_graph\n",
    "\n",
    "rerouting = Rerouting('M2.6_3D_whole-body.csv', 'nerve_point_annotations.json')"
   ]
  },
  {
   "cell_type": "markdown",
   "metadata": {},
   "source": [
    "#### Reroute and draw ilxtr:neuron-type-bolew-unbranched-\n",
    "This is an example of completely routed neuron population to 3d whole-body map"
   ]
  },
  {
   "cell_type": "code",
   "execution_count": 4,
   "metadata": {},
   "outputs": [
    {
     "name": "stdout",
     "output_type": "stream",
     "text": [
      "ilxtr:neuron-type-bolew-unbranched-12\n",
      "SCKAN:\n"
     ]
    },
    {
     "data": {
      "application/vnd.jupyter.widget-view+json": {
       "model_id": "c6ce870b7f544ab28481a71777294998",
       "version_major": 2,
       "version_minor": 0
      },
      "text/plain": [
       "CytoscapeWidget(cytoscape_layout={'name': 'cola'}, cytoscape_style=[{'selector': 'node', 'style': {'label': 'd…"
      ]
     },
     "metadata": {},
     "output_type": "display_data"
    },
    {
     "name": "stdout",
     "output_type": "stream",
     "text": [
      "Reroute for 3D Map:\n"
     ]
    },
    {
     "data": {
      "application/vnd.jupyter.widget-view+json": {
       "model_id": "e1803799e02f4fb48f2e16361779d0a8",
       "version_major": 2,
       "version_minor": 0
      },
      "text/plain": [
       "CytoscapeWidget(cytoscape_layout={'name': 'cola'}, cytoscape_style=[{'selector': 'node', 'style': {'label': 'd…"
      ]
     },
     "metadata": {},
     "output_type": "display_data"
    },
    {
     "data": {
      "application/vnd.jupyter.widget-view+json": {
       "model_id": "288a6f6d37554e0d9b62d46e6e04e83e",
       "version_major": 2,
       "version_minor": 0
      },
      "text/plain": [
       "CytoscapeWidget(cytoscape_layout={'name': 'cola'}, cytoscape_style=[{'selector': 'node', 'style': {'label': 'd…"
      ]
     },
     "metadata": {},
     "output_type": "display_data"
    },
    {
     "data": {
      "application/vnd.jupyter.widget-view+json": {
       "model_id": "1ed435c80ce64a5fbcffe1ba506ffc70",
       "version_major": 2,
       "version_minor": 0
      },
      "text/plain": [
       "CytoscapeWidget(cytoscape_layout={'name': 'cola'}, cytoscape_style=[{'selector': 'node', 'style': {'label': 'd…"
      ]
     },
     "metadata": {},
     "output_type": "display_data"
    }
   ],
   "source": [
    "g = draw_entity(npo, rerouting, 'ilxtr:neuron-type-bolew-unbranched-12')\n",
    "draw_waypoints(rerouting, g)"
   ]
  },
  {
   "cell_type": "markdown",
   "metadata": {},
   "source": [
    "#### Now checking all neuron population\n",
    "The following script identifies all neuron population with the following criteria:\n",
    "- at least one edge in the neuron population is detected in the 3d whole body map\n",
    "\n",
    "However, this one edge can be just one point in the 3d whole body map.\n",
    "\n",
    "**Note:** Running the following cell takes about 30 minutes\n",
    "\n",
    "- Go to `Other complete examples` to see the other two complete mapping examples\n",
    "- Go to `Example of partially rendered neuron population` to see the example of `good` partially complete example\n"
   ]
  },
  {
   "cell_type": "code",
   "execution_count": 6,
   "metadata": {},
   "outputs": [
    {
     "name": "stderr",
     "output_type": "stream",
     "text": [
      "100%|█████████████████████████████████████████████████████████████████████████████████████████████████████████████████████████████████████████████████████████████████████████████| 467/467 [42:31<00:00,  5.46s/it]\n"
     ]
    }
   ],
   "source": [
    "from tqdm import tqdm\n",
    "\n",
    "reroute_results = {}\n",
    "\n",
    "for path in tqdm(npo.connectivity_paths()):\n",
    "    if len((knowledge := rerouting.reroute_for_3d_map(npo, path))['connectivity']) > 0:\n",
    "        reroute_results[path] = {\n",
    "            'original': npo.entity_knowledge(path),\n",
    "            '3d_reroute': knowledge\n",
    "        }\n"
   ]
  },
  {
   "cell_type": "code",
   "execution_count": 9,
   "metadata": {},
   "outputs": [],
   "source": [
    "### need to filter human neuron population only\n",
    "human_reroute_results = {rr:kn for rr, kn in reroute_results.items() \n",
    "                         if len(taxons:=kn['original'].get('taxons', [])) == 0\n",
    "                         or 'NCBITaxon:9606' in taxons                 # human\n",
    "                         or 'NCBITaxon:40674' in taxons                # mammal\n",
    "                        }"
   ]
  },
  {
   "cell_type": "code",
   "execution_count": 24,
   "metadata": {},
   "outputs": [
    {
     "name": "stdout",
     "output_type": "stream",
     "text": [
      "# of neuron populating where at least it's edge identified at 3d whole body map: 34\n"
     ]
    }
   ],
   "source": [
    "print(\"# of neuron populating where at least it's edge identified at 3d whole body map:\", len(human_reroute_results))"
   ]
  },
  {
   "cell_type": "markdown",
   "metadata": {},
   "source": [
    "#### Identifying neuron populations than can be rendered fully and partially \n",
    "Given that most of the neurons in the 3D whole body map have laterality, the minimum number of edges in the detected neuron population should be 4. Thus, there is at least one edge rendered in the left and right laterals of the 3D whole body map."
   ]
  },
  {
   "cell_type": "code",
   "execution_count": 14,
   "metadata": {},
   "outputs": [
    {
     "name": "stdout",
     "output_type": "stream",
     "text": [
      "# of partially mapped neuron population: 13\n"
     ]
    },
    {
     "data": {
      "text/plain": [
       "['ilxtr:neuron-type-aacar-4',\n",
       " 'ilxtr:neuron-type-bolew-unbranched-18',\n",
       " 'ilxtr:neuron-type-bolew-unbranched-16',\n",
       " 'ilxtr:neuron-type-bolew-unbranched-19',\n",
       " 'ilxtr:neuron-type-bolew-unbranched-17',\n",
       " 'ilxtr:sparc-nlp/mmset2cn/1',\n",
       " 'ilxtr:sparc-nlp/mmset2cn/3',\n",
       " 'ilxtr:sparc-nlp/mmset1/10',\n",
       " 'ilxtr:sparc-nlp/mmset1/5',\n",
       " 'ilxtr:neuron-type-bolew-unbranched-11',\n",
       " 'ilxtr:neuron-type-bolew-unbranched-12',\n",
       " 'ilxtr:neuron-type-bolew-unbranched-9',\n",
       " 'ilxtr:neuron-type-bolew-unbranched-10']"
      ]
     },
     "execution_count": 14,
     "metadata": {},
     "output_type": "execute_result"
    }
   ],
   "source": [
    "partially_mapped = [rr for rr, v in human_reroute_results.items() if len(v['3d_reroute']['connectivity'])>= 4]\n",
    "\n",
    "print('# of partially mapped neuron population:', len(partially_mapped))\n",
    "partially_mapped"
   ]
  },
  {
   "cell_type": "markdown",
   "metadata": {},
   "source": [
    "#### Other complete examples"
   ]
  },
  {
   "cell_type": "code",
   "execution_count": 20,
   "metadata": {
    "scrolled": true
   },
   "outputs": [
    {
     "name": "stdout",
     "output_type": "stream",
     "text": [
      "ilxtr:sparc-nlp/mmset2cn/1\n",
      "SCKAN:\n"
     ]
    },
    {
     "data": {
      "application/vnd.jupyter.widget-view+json": {
       "model_id": "f2e29afa548343199d0010d8acec9ff9",
       "version_major": 2,
       "version_minor": 0
      },
      "text/plain": [
       "CytoscapeWidget(cytoscape_layout={'name': 'cola'}, cytoscape_style=[{'selector': 'node', 'style': {'label': 'd…"
      ]
     },
     "metadata": {},
     "output_type": "display_data"
    },
    {
     "name": "stdout",
     "output_type": "stream",
     "text": [
      "Reroute for 3D Map:\n"
     ]
    },
    {
     "data": {
      "application/vnd.jupyter.widget-view+json": {
       "model_id": "b4fb41459f764dbf8a6a4266394f7582",
       "version_major": 2,
       "version_minor": 0
      },
      "text/plain": [
       "CytoscapeWidget(cytoscape_layout={'name': 'cola'}, cytoscape_style=[{'selector': 'node', 'style': {'label': 'd…"
      ]
     },
     "metadata": {},
     "output_type": "display_data"
    },
    {
     "data": {
      "application/vnd.jupyter.widget-view+json": {
       "model_id": "4c145a3cb39d4611938bcd685bfb07a0",
       "version_major": 2,
       "version_minor": 0
      },
      "text/plain": [
       "CytoscapeWidget(cytoscape_layout={'name': 'cola'}, cytoscape_style=[{'selector': 'node', 'style': {'label': 'd…"
      ]
     },
     "metadata": {},
     "output_type": "display_data"
    },
    {
     "data": {
      "application/vnd.jupyter.widget-view+json": {
       "model_id": "c142e32b408d4159a77f5ecf0e2c706c",
       "version_major": 2,
       "version_minor": 0
      },
      "text/plain": [
       "CytoscapeWidget(cytoscape_layout={'name': 'cola'}, cytoscape_style=[{'selector': 'node', 'style': {'label': 'd…"
      ]
     },
     "metadata": {},
     "output_type": "display_data"
    }
   ],
   "source": [
    "g = draw_entity(npo, rerouting, 'ilxtr:sparc-nlp/mmset2cn/1')\n",
    "draw_waypoints(rerouting, g)"
   ]
  },
  {
   "cell_type": "code",
   "execution_count": 22,
   "metadata": {
    "scrolled": true
   },
   "outputs": [
    {
     "name": "stdout",
     "output_type": "stream",
     "text": [
      "ilxtr:sparc-nlp/mmset2cn/3\n",
      "SCKAN:\n"
     ]
    },
    {
     "data": {
      "application/vnd.jupyter.widget-view+json": {
       "model_id": "544ab118edf8464285a0589c28dec9f0",
       "version_major": 2,
       "version_minor": 0
      },
      "text/plain": [
       "CytoscapeWidget(cytoscape_layout={'name': 'cola'}, cytoscape_style=[{'selector': 'node', 'style': {'label': 'd…"
      ]
     },
     "metadata": {},
     "output_type": "display_data"
    },
    {
     "name": "stdout",
     "output_type": "stream",
     "text": [
      "Reroute for 3D Map:\n"
     ]
    },
    {
     "data": {
      "application/vnd.jupyter.widget-view+json": {
       "model_id": "193d30e3ff9245cea98cd71d017ae93c",
       "version_major": 2,
       "version_minor": 0
      },
      "text/plain": [
       "CytoscapeWidget(cytoscape_layout={'name': 'cola'}, cytoscape_style=[{'selector': 'node', 'style': {'label': 'd…"
      ]
     },
     "metadata": {},
     "output_type": "display_data"
    },
    {
     "data": {
      "application/vnd.jupyter.widget-view+json": {
       "model_id": "28559f00a0a542bd970b656264bf8f28",
       "version_major": 2,
       "version_minor": 0
      },
      "text/plain": [
       "CytoscapeWidget(cytoscape_layout={'name': 'cola'}, cytoscape_style=[{'selector': 'node', 'style': {'label': 'd…"
      ]
     },
     "metadata": {},
     "output_type": "display_data"
    },
    {
     "data": {
      "application/vnd.jupyter.widget-view+json": {
       "model_id": "4564fd1fe2c94b94a5ee7141fcd79fd0",
       "version_major": 2,
       "version_minor": 0
      },
      "text/plain": [
       "CytoscapeWidget(cytoscape_layout={'name': 'cola'}, cytoscape_style=[{'selector': 'node', 'style': {'label': 'd…"
      ]
     },
     "metadata": {},
     "output_type": "display_data"
    }
   ],
   "source": [
    "g = draw_entity(npo, rerouting, 'ilxtr:sparc-nlp/mmset2cn/3')\n",
    "draw_waypoints(rerouting, g)"
   ]
  },
  {
   "cell_type": "markdown",
   "metadata": {},
   "source": [
    "#### Example of partially rendered neuron population"
   ]
  },
  {
   "cell_type": "code",
   "execution_count": 23,
   "metadata": {},
   "outputs": [
    {
     "name": "stdout",
     "output_type": "stream",
     "text": [
      "ilxtr:neuron-type-bolew-unbranched-9\n",
      "SCKAN:\n"
     ]
    },
    {
     "data": {
      "application/vnd.jupyter.widget-view+json": {
       "model_id": "c7ab31eabb8e4694939d6a23dc2ebd1e",
       "version_major": 2,
       "version_minor": 0
      },
      "text/plain": [
       "CytoscapeWidget(cytoscape_layout={'name': 'cola'}, cytoscape_style=[{'selector': 'node', 'style': {'label': 'd…"
      ]
     },
     "metadata": {},
     "output_type": "display_data"
    },
    {
     "name": "stdout",
     "output_type": "stream",
     "text": [
      "Reroute for 3D Map:\n"
     ]
    },
    {
     "data": {
      "application/vnd.jupyter.widget-view+json": {
       "model_id": "fc3505ba87654e05a9583e245ab15e7d",
       "version_major": 2,
       "version_minor": 0
      },
      "text/plain": [
       "CytoscapeWidget(cytoscape_layout={'name': 'cola'}, cytoscape_style=[{'selector': 'node', 'style': {'label': 'd…"
      ]
     },
     "metadata": {},
     "output_type": "display_data"
    },
    {
     "data": {
      "application/vnd.jupyter.widget-view+json": {
       "model_id": "def86fe486334b9a87ee6a0333ca0fbf",
       "version_major": 2,
       "version_minor": 0
      },
      "text/plain": [
       "CytoscapeWidget(cytoscape_layout={'name': 'cola'}, cytoscape_style=[{'selector': 'node', 'style': {'label': 'd…"
      ]
     },
     "metadata": {},
     "output_type": "display_data"
    },
    {
     "data": {
      "application/vnd.jupyter.widget-view+json": {
       "model_id": "67ee7ba503fd44c7ae2bb33b4087a7e3",
       "version_major": 2,
       "version_minor": 0
      },
      "text/plain": [
       "CytoscapeWidget(cytoscape_layout={'name': 'cola'}, cytoscape_style=[{'selector': 'node', 'style': {'label': 'd…"
      ]
     },
     "metadata": {},
     "output_type": "display_data"
    }
   ],
   "source": [
    "g = draw_entity(npo, rerouting, 'ilxtr:neuron-type-bolew-unbranched-9')\n",
    "draw_waypoints(rerouting, g)"
   ]
  }
 ],
 "metadata": {
  "kernelspec": {
   "display_name": "Python 3 (ipykernel)",
   "language": "python",
   "name": "python3"
  },
  "language_info": {
   "codemirror_mode": {
    "name": "ipython",
    "version": 3
   },
   "file_extension": ".py",
   "mimetype": "text/x-python",
   "name": "python",
   "nbconvert_exporter": "python",
   "pygments_lexer": "ipython3",
   "version": "3.12.3"
  }
 },
 "nbformat": 4,
 "nbformat_minor": 4
}
